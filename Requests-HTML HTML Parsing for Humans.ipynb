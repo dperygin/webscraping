{
 "cells": [
  {
   "cell_type": "code",
   "execution_count": 61,
   "id": "9f75d4cb",
   "metadata": {},
   "outputs": [],
   "source": [
    "#From python-requests\n",
    "#A review of the library with updated code\n",
    "#What works and what doesnt\n",
    "#https://docs.python-requests.org/projects/requests-html/en/stable/"
   ]
  },
  {
   "cell_type": "code",
   "execution_count": 63,
   "id": "7b87de23",
   "metadata": {},
   "outputs": [],
   "source": [
    "#Add the shebang if you want to run as a py file\n",
    "#! /usr/bin/env/ python\n",
    "# coding utf-8\n",
    "\n",
    "#If pip is not installed:\n",
    "#pip install requests-html\n",
    "#Google how to install jupyter notebooks\n",
    "#Google how to install pip\n",
    "\n",
    "#This works as long as you are not rendering HTML from javascript on the page. \n",
    "#For Javascript you need to use an async HTML session\n",
    "#Or use Selenium\n",
    "#I am having trouble with async with this library"
   ]
  },
  {
   "cell_type": "code",
   "execution_count": 122,
   "id": "c1c2cefb",
   "metadata": {},
   "outputs": [
    {
     "name": "stdout",
     "output_type": "stream",
     "text": [
      "<Response [200]>\n"
     ]
    }
   ],
   "source": [
    "from requests_html import HTMLSession\n",
    "session = HTMLSession()\n",
    "\n",
    "r = session.get('https://python.org/')\n",
    "#response 200 means successful\n",
    "print(r)\n",
    "\n"
   ]
  },
  {
   "cell_type": "code",
   "execution_count": 124,
   "id": "42d23d58",
   "metadata": {},
   "outputs": [],
   "source": [
    "#Grab a list of all links on the page, as–is (anchors excluded):\n",
    "\n",
    "links = r.html.links\n",
    "#print(links)\n",
    "\n"
   ]
  },
  {
   "cell_type": "code",
   "execution_count": 126,
   "id": "8862fd24",
   "metadata": {},
   "outputs": [],
   "source": [
    "#Grab a list of all links on the page, in absolute form (anchors excluded):\n",
    "\n",
    "alinks = r.html.absolute_links\n",
    "#print(alinks)\n",
    "\n"
   ]
  },
  {
   "cell_type": "code",
   "execution_count": 131,
   "id": "69ba9142",
   "metadata": {},
   "outputs": [
    {
     "name": "stdout",
     "output_type": "stream",
     "text": [
      "<Element 'li' id='about' class=('tier-1', 'element-1') aria-haspopup='true'>\n"
     ]
    }
   ],
   "source": [
    "#Select an element with a CSS Selector:\n",
    "\n",
    "about = r.html.find('#about', first=True)\n",
    "print(about)\n",
    "#try right click > inspect\n",
    "#Grab the element's li tag that contains the css selector\n",
    "\n",
    "#Grab an element’s text contents:\n",
    "#print(about.text)"
   ]
  },
  {
   "cell_type": "code",
   "execution_count": 135,
   "id": "26655650",
   "metadata": {},
   "outputs": [
    {
     "name": "stdout",
     "output_type": "stream",
     "text": [
      "{'id': 'about', 'class': ('tier-1', 'element-1'), 'aria-haspopup': 'true'}\n",
      "true\n"
     ]
    }
   ],
   "source": [
    "#Introspect an Element’s attributes:\n",
    "#This grabs the information from the li tag and returns it as a dictionary data structure\n",
    "#Elements can be accessed as any dict\n",
    "#aria-haspopup means this element can trigger a popup item\n",
    "\n",
    "attr = about.attrs\n",
    "print(attr)\n",
    "print(attr['aria-haspopup'])\n",
    "\n",
    "\n"
   ]
  },
  {
   "cell_type": "code",
   "execution_count": 137,
   "id": "f41640e2",
   "metadata": {},
   "outputs": [
    {
     "name": "stdout",
     "output_type": "stream",
     "text": [
      "<li id=\"about\" class=\"tier-1 element-1\" aria-haspopup=\"true\">\n",
      "<a href=\"/about/\" title=\"\" class=\"\">About</a>\n",
      "<ul class=\"subnav menu\" role=\"menu\" aria-hidden=\"true\">\n",
      "<li class=\"tier-2 element-1\" role=\"treeitem\"><a href=\"/about/apps/\" title=\"\">Applications</a></li>\n",
      "<li class=\"tier-2 element-2\" role=\"treeitem\"><a href=\"/about/quotes/\" title=\"\">Quotes</a></li>\n",
      "<li class=\"tier-2 element-3\" role=\"treeitem\"><a href=\"/about/gettingstarted/\" title=\"\">Getting Started</a></li>\n",
      "<li class=\"tier-2 element-4\" role=\"treeitem\"><a href=\"/about/help/\" title=\"\">Help</a></li>\n",
      "<li class=\"tier-2 element-5\" role=\"treeitem\"><a href=\"http://brochure.getpython.info/\" title=\"\">Python Brochure</a></li>\n",
      "</ul>\n",
      "</li>\n"
     ]
    }
   ],
   "source": [
    "#Render out an Element’s HTML:\n",
    "#In this case, the HTML is associated with a dropdown menu that is fleshed out as an li element\n",
    "\n",
    "abouthtml = about.html\n",
    "print(abouthtml)\n",
    "\n"
   ]
  },
  {
   "cell_type": "code",
   "execution_count": 139,
   "id": "de94896d",
   "metadata": {},
   "outputs": [],
   "source": [
    "#Select Elements within Elements:\n",
    "#Here we find the anchor tags, and links associated with those\n",
    "#That are in the nav menu under about\n",
    "\n",
    "finda = about.find('a')\n",
    "print(finda)\n",
    "\n"
   ]
  },
  {
   "cell_type": "code",
   "execution_count": 140,
   "id": "2e1b62bc",
   "metadata": {},
   "outputs": [
    {
     "name": "stdout",
     "output_type": "stream",
     "text": [
      "{'https://www.python.org/about/help/', 'http://brochure.getpython.info/', 'https://www.python.org/about/quotes/', 'https://www.python.org/about/', 'https://www.python.org/about/apps/', 'https://www.python.org/about/gettingstarted/'}\n"
     ]
    }
   ],
   "source": [
    "#If we don't want the a tags\n",
    "#We can exclude those and return only the absolute links within an element\n",
    "#which include the full path \n",
    "\n",
    "absolute_links = about.absolute_links\n",
    "print(absolute_links)\n",
    "\n"
   ]
  },
  {
   "cell_type": "code",
   "execution_count": 141,
   "id": "46bcbbd2",
   "metadata": {
    "scrolled": true
   },
   "outputs": [
    {
     "name": "stdout",
     "output_type": "stream",
     "text": [
      "https://www.python.org/about/help/\n",
      "http://brochure.getpython.info/\n",
      "https://www.python.org/about/quotes/\n",
      "https://www.python.org/about/\n",
      "https://www.python.org/about/apps/\n",
      "https://www.python.org/about/gettingstarted/\n"
     ]
    }
   ],
   "source": [
    "#Loop over the links. This could be used to scrape info on pages nested in drop-downs\n",
    "for link in absolute_links:\n",
    "    print(link)"
   ]
  },
  {
   "cell_type": "code",
   "execution_count": 142,
   "id": "16bebc93",
   "metadata": {},
   "outputs": [
    {
     "name": "stdout",
     "output_type": "stream",
     "text": [
      "programming\n"
     ]
    }
   ],
   "source": [
    "#Search for text on the page:\n",
    "#This searches for the first entry [0] that meets the requirement\n",
    "\n",
    "pagetext = r.html.search('Python is a {} language')[0]\n",
    "print(pagetext)\n",
    "\n",
    "\n",
    "\n",
    "\n",
    "\n",
    "\n",
    "\n",
    "\n",
    "\n",
    "\n"
   ]
  },
  {
   "cell_type": "code",
   "execution_count": 146,
   "id": "109faff3",
   "metadata": {},
   "outputs": [
    {
     "name": "stdout",
     "output_type": "stream",
     "text": [
      "Events\n",
      "Python Events\n",
      "User Group Events\n",
      "Python Events Archive\n",
      "User Group Events Archive\n",
      "Submit an Event\n"
     ]
    }
   ],
   "source": [
    "#More complex CSS Selector example\n",
    "\n",
    "sel = '#events'\n",
    "print(r.html.find(sel, first=True).text)"
   ]
  },
  {
   "cell_type": "code",
   "execution_count": 159,
   "id": "8dceab34",
   "metadata": {},
   "outputs": [
    {
     "name": "stdout",
     "output_type": "stream",
     "text": [
      "[<Element 'img' class=('python-logo',) src='/static/img/python-logo.png' alt='python™'>]\n"
     ]
    }
   ],
   "source": [
    "#XPath is also supported:\n",
    "\n",
    "xpathresult = r.html.xpath('/html/body/div/header/div/h1/a/img')\n",
    "print(xpathresult)\n",
    "\n",
    "\n",
    "\n",
    "\n",
    "\n"
   ]
  },
  {
   "cell_type": "code",
   "execution_count": 161,
   "id": "39f8b541",
   "metadata": {},
   "outputs": [],
   "source": [
    "#This library claims to be able to render HTML from JavaScript, but I have been unsuccessful\n",
    "#We will use Selenium later\n",
    "r = session.get('https://en.wikipedia.org/wiki/Porcupine#:~:text=Porcupines%20are%20large%20rodents%20with,World%20porcupines%20of%20family%2C%20Erethizontidae')\n",
    "#r.html.render()\n",
    "#r.html.search('Porcupines are large {rodents} with coats of sharp spines  months!')['rodents']"
   ]
  },
  {
   "cell_type": "code",
   "execution_count": null,
   "id": "61199450",
   "metadata": {},
   "outputs": [],
   "source": []
  }
 ],
 "metadata": {
  "kernelspec": {
   "display_name": "Python 3 (ipykernel)",
   "language": "python",
   "name": "python3"
  },
  "language_info": {
   "codemirror_mode": {
    "name": "ipython",
    "version": 3
   },
   "file_extension": ".py",
   "mimetype": "text/x-python",
   "name": "python",
   "nbconvert_exporter": "python",
   "pygments_lexer": "ipython3",
   "version": "3.9.13"
  }
 },
 "nbformat": 4,
 "nbformat_minor": 5
}
